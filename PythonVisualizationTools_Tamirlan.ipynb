{
 "cells": [
  {
   "cell_type": "markdown",
   "metadata": {},
   "source": [
    "# Lunch and Learn. 10/10/2017"
   ]
  },
  {
   "cell_type": "markdown",
   "metadata": {},
   "source": [
    "# PYTHON VISUALIZATION TOOLS"
   ]
  },
  {
   "cell_type": "markdown",
   "metadata": {},
   "source": [
    "## Prepared by Tamirlan Seidakhmetov"
   ]
  },
  {
   "cell_type": "markdown",
   "metadata": {},
   "source": [
    "### Inspired by Coursera Applied Plotting, Charting & Data Representation in Python class by University of Michigan"
   ]
  },
  {
   "cell_type": "markdown",
   "metadata": {
    "collapsed": true
   },
   "source": [
    "# Part 1: Matplotlib Visualizations"
   ]
  },
  {
   "cell_type": "code",
   "execution_count": null,
   "metadata": {
    "collapsed": true
   },
   "outputs": [],
   "source": [
    "# %matplotlib inline\n",
    "%matplotlib notebook\n",
    "\n",
    "import matplotlib.pyplot as plt\n",
    "import numpy as np"
   ]
  },
  {
   "cell_type": "markdown",
   "metadata": {},
   "source": [
    "matplotlib.pyplot provides a MATLAB-like plotting framework.\n",
    "\n",
    "matplotlib.pyplot is a collection of command style functions that make matplotlib work like MATLAB. Each pyplot function makes some change to a figure: e.g., creates a figure, creates a plotting area in a figure, plots some lines in a plotting area, decorates the plot with labels, etc."
   ]
  },
  {
   "cell_type": "markdown",
   "metadata": {},
   "source": [
    "# Simple plots"
   ]
  },
  {
   "cell_type": "markdown",
   "metadata": {},
   "source": [
    "### Example 1"
   ]
  },
  {
   "cell_type": "code",
   "execution_count": null,
   "metadata": {},
   "outputs": [],
   "source": [
    "plt.figure()\n",
    "plt.plot(1, 2, '.')"
   ]
  },
  {
   "cell_type": "code",
   "execution_count": null,
   "metadata": {
    "collapsed": true
   },
   "outputs": [],
   "source": [
    "?plt.plot"
   ]
  },
  {
   "cell_type": "code",
   "execution_count": null,
   "metadata": {},
   "outputs": [],
   "source": [
    "plt.plot(4, 3, 'o', color='r')"
   ]
  },
  {
   "cell_type": "code",
   "execution_count": null,
   "metadata": {},
   "outputs": [],
   "source": [
    "# get the current axes\n",
    "ax = plt.gca()\n",
    "\n",
    "# # Set axis properties [xmin, xmax, ymin, ymax]\n",
    "ax.axis([0,6,0,10])\n",
    "# ax.set_xlim(0,6)\n",
    "# ax.set_ylim(0,10)"
   ]
  },
  {
   "cell_type": "code",
   "execution_count": null,
   "metadata": {},
   "outputs": [],
   "source": [
    "plt.xlabel('X_coord')\n",
    "plt.ylabel('Y_coord')\n",
    "plt.title('Simple plot')"
   ]
  },
  {
   "cell_type": "markdown",
   "metadata": {},
   "source": [
    "### Example 2"
   ]
  },
  {
   "cell_type": "code",
   "execution_count": null,
   "metadata": {},
   "outputs": [],
   "source": [
    "# create a new figure\n",
    "plt.figure()\n",
    "\n",
    "plt.plot(-1, -2, '+', color='k')\n",
    "plt.plot(0, 2, '*', color='g')\n",
    "plt.plot(3, 5, 'o', color='b')"
   ]
  },
  {
   "cell_type": "markdown",
   "metadata": {},
   "source": [
    "# Scatterplot"
   ]
  },
  {
   "cell_type": "markdown",
   "metadata": {},
   "source": [
    "### Example 3"
   ]
  },
  {
   "cell_type": "code",
   "execution_count": null,
   "metadata": {},
   "outputs": [],
   "source": [
    "x = np.array(range(1,11))\n",
    "y = x**2\n",
    "\n",
    "plt.figure()\n",
    "plt.scatter(x, y) "
   ]
  },
  {
   "cell_type": "markdown",
   "metadata": {},
   "source": [
    "### Example 4"
   ]
  },
  {
   "cell_type": "code",
   "execution_count": null,
   "metadata": {},
   "outputs": [],
   "source": [
    "# Add Colors\n",
    "colors = ['blue']*(len(x)-1)\n",
    "colors.append('red')\n",
    "colors"
   ]
  },
  {
   "cell_type": "code",
   "execution_count": null,
   "metadata": {},
   "outputs": [],
   "source": [
    "plt.figure()\n",
    "plt.scatter(x, y, c=colors)"
   ]
  },
  {
   "cell_type": "markdown",
   "metadata": {},
   "source": [
    "### Example 5"
   ]
  },
  {
   "cell_type": "code",
   "execution_count": null,
   "metadata": {},
   "outputs": [],
   "source": [
    "plt.figure()\n",
    "\n",
    "plt.scatter(x[:-1], y[:-1], s=100, c='blue', label='Type 1')\n",
    "plt.scatter(x[-1:], y[-1:], s=100, c='red', label='Type 2')\n",
    "\n",
    "# Legends\n",
    "plt.legend(title='Legend')"
   ]
  },
  {
   "cell_type": "markdown",
   "metadata": {},
   "source": [
    "# Line Plots"
   ]
  },
  {
   "cell_type": "markdown",
   "metadata": {},
   "source": [
    "### Example 6"
   ]
  },
  {
   "cell_type": "code",
   "execution_count": null,
   "metadata": {},
   "outputs": [],
   "source": [
    "linear_data = np.array(range(1,9))\n",
    "exponential_data = linear_data**2\n",
    "\n",
    "plt.figure()\n",
    "# plot the linear data and the exponential data\n",
    "plt.plot(linear_data, '-o', exponential_data, '-o')"
   ]
  },
  {
   "cell_type": "code",
   "execution_count": null,
   "metadata": {},
   "outputs": [],
   "source": [
    "plt.plot([50, 70, 120])"
   ]
  },
  {
   "cell_type": "code",
   "execution_count": null,
   "metadata": {},
   "outputs": [],
   "source": [
    "# fill the area between the linear data and exponential data\n",
    "plt.gca().fill_between(range(len(linear_data)), \n",
    "                       linear_data, exponential_data, \n",
    "                       facecolor='blue', \n",
    "                       alpha=0.1)"
   ]
  },
  {
   "cell_type": "markdown",
   "metadata": {},
   "source": [
    "# Bar Chart"
   ]
  },
  {
   "cell_type": "markdown",
   "metadata": {},
   "source": [
    "### Example 7"
   ]
  },
  {
   "cell_type": "code",
   "execution_count": null,
   "metadata": {},
   "outputs": [],
   "source": [
    "plt.figure()\n",
    "xvals = range(len(linear_data))\n",
    "plt.bar(xvals, linear_data, width = 0.3)"
   ]
  },
  {
   "cell_type": "code",
   "execution_count": null,
   "metadata": {},
   "outputs": [],
   "source": [
    "new_xvals = []\n",
    "# plot another set of bars, adjusting the new xvals to make up for the first set of bars plotted\n",
    "for item in xvals:\n",
    "    new_xvals.append(item+0.3)\n",
    "plt.bar(new_xvals, exponential_data, width = 0.3, color='red')"
   ]
  },
  {
   "cell_type": "code",
   "execution_count": null,
   "metadata": {},
   "outputs": [],
   "source": [
    "from random import randint\n",
    "linear_err = [randint(0,15) for x in range(len(linear_data))] \n",
    "# This will plot a new set of bars with errorbars using the list of random error values\n",
    "plt.bar(xvals, linear_data, width = 0.3, yerr=linear_err)"
   ]
  },
  {
   "cell_type": "markdown",
   "metadata": {},
   "source": [
    "### Example 8"
   ]
  },
  {
   "cell_type": "code",
   "execution_count": null,
   "metadata": {},
   "outputs": [],
   "source": [
    "# stacked bar charts are also possible\n",
    "plt.figure()\n",
    "xvals = range(len(linear_data))\n",
    "plt.bar(xvals, linear_data, width = 0.3, color='b')\n",
    "plt.bar(xvals, exponential_data, width = 0.3, bottom=linear_data, color='r')"
   ]
  },
  {
   "cell_type": "markdown",
   "metadata": {},
   "source": [
    "### Example 9"
   ]
  },
  {
   "cell_type": "code",
   "execution_count": null,
   "metadata": {},
   "outputs": [],
   "source": [
    "# or use barh for horizontal bar charts\n",
    "plt.figure()\n",
    "xvals = range(len(linear_data))\n",
    "plt.barh(xvals, linear_data, height = 0.3, color='b')\n",
    "plt.barh(xvals, exponential_data, height = 0.3, left=linear_data, color='r')"
   ]
  },
  {
   "cell_type": "markdown",
   "metadata": {},
   "source": [
    "# Subplots"
   ]
  },
  {
   "cell_type": "markdown",
   "metadata": {},
   "source": [
    "### Example 10"
   ]
  },
  {
   "cell_type": "code",
   "execution_count": null,
   "metadata": {},
   "outputs": [],
   "source": [
    "plt.figure()\n",
    "# subplot with 1 row, 2 columns, and current axis is 1st subplot axes\n",
    "plt.subplot(1, 2, 1)\n",
    "\n",
    "linear_data = np.array([1,2,3,4,5,6,7,8])\n",
    "\n",
    "plt.plot(linear_data, '-o')\n",
    "\n",
    "\n",
    "exponential_data = linear_data**2 \n",
    "\n",
    "# subplot with 1 row, 2 columns, and current axis is 2nd subplot axes\n",
    "plt.subplot(122)\n",
    "plt.plot(exponential_data, '-o')"
   ]
  },
  {
   "cell_type": "code",
   "execution_count": null,
   "metadata": {},
   "outputs": [],
   "source": [
    "'Any problem?'"
   ]
  },
  {
   "cell_type": "markdown",
   "metadata": {},
   "source": [
    "### Example 11"
   ]
  },
  {
   "cell_type": "code",
   "execution_count": null,
   "metadata": {},
   "outputs": [],
   "source": [
    "plt.figure()\n",
    "ax1 = plt.subplot(1, 2, 1)\n",
    "plt.plot(linear_data, '-o')\n",
    "# pass sharey=ax1 to ensure the two subplots share the same y axis\n",
    "ax2 = plt.subplot(1, 2, 2, sharey=ax1)\n",
    "plt.plot(exponential_data, '-o')"
   ]
  },
  {
   "cell_type": "code",
   "execution_count": null,
   "metadata": {},
   "outputs": [],
   "source": [
    "# plt.figure()\n",
    "# the right hand side is equivalent shorthand syntax\n",
    "plt.subplot(1,2,1) == plt.subplot(121)"
   ]
  },
  {
   "cell_type": "markdown",
   "metadata": {},
   "source": [
    "### Example 12"
   ]
  },
  {
   "cell_type": "code",
   "execution_count": null,
   "metadata": {
    "scrolled": false
   },
   "outputs": [],
   "source": [
    "# create a 3x3 grid of subplots\n",
    "fig, ((ax1,ax2,ax3), (ax4,ax5,ax6), (ax7,ax8,ax9)) = plt.subplots(3, 3, sharex=True, sharey=True)\n",
    "# plot the linear_data on the 5th subplot axes \n",
    "ax5.plot(linear_data, '-')"
   ]
  },
  {
   "cell_type": "code",
   "execution_count": null,
   "metadata": {},
   "outputs": [],
   "source": [
    "plt.xticks([1,2,3,5,6])"
   ]
  },
  {
   "cell_type": "markdown",
   "metadata": {},
   "source": [
    "# Histogram"
   ]
  },
  {
   "cell_type": "markdown",
   "metadata": {},
   "source": [
    "### Example 13"
   ]
  },
  {
   "cell_type": "code",
   "execution_count": null,
   "metadata": {},
   "outputs": [],
   "source": [
    "# create 2x2 grid of axis subplots\n",
    "fig, ((ax1, ax2), (ax3, ax4)) = plt.subplots(2, 2, sharex=True)\n",
    "axs = [ax1,ax2,ax3,ax4]\n",
    "\n",
    "# draw n = 10, 100, 1000, and 10000 samples from the normal distribution and plot corresponding histograms\n",
    "for n in range(0,len(axs)):\n",
    "    sample_size = 10**(n+1)\n",
    "    sample = np.random.normal(loc=0.0, scale=1.0, size=sample_size)\n",
    "    axs[n].hist(sample)\n",
    "    axs[n].set_title('n={}'.format(sample_size))"
   ]
  },
  {
   "cell_type": "markdown",
   "metadata": {},
   "source": [
    "### Example 14"
   ]
  },
  {
   "cell_type": "code",
   "execution_count": null,
   "metadata": {},
   "outputs": [],
   "source": [
    "# repeat with number of bins set to 100\n",
    "fig, ((ax1, ax2), (ax3, ax4)) = plt.subplots(2, 2, sharex=True)\n",
    "axs = [ax1,ax2,ax3,ax4]\n",
    "\n",
    "for n in range(0,len(axs)):\n",
    "    sample_size = 10**(n+1)\n",
    "    sample = np.random.normal(loc=0.0, scale=1.0, size=sample_size)\n",
    "    axs[n].hist(sample, bins=100)\n",
    "    axs[n].set_title('n={}'.format(sample_size))"
   ]
  },
  {
   "cell_type": "markdown",
   "metadata": {},
   "source": [
    "### Example 15"
   ]
  },
  {
   "cell_type": "code",
   "execution_count": null,
   "metadata": {},
   "outputs": [],
   "source": [
    "# repeat with constant size bins\n",
    "fig, ((ax1, ax2), (ax3, ax4)) = plt.subplots(2, 2, sharex=True)\n",
    "axs = [ax1,ax2,ax3,ax4]\n",
    "\n",
    "for n in range(0,len(axs)):\n",
    "    sample_size = 10**(n+1)\n",
    "    sample = np.random.normal(loc=0.0, scale=1.0, size=sample_size)\n",
    "    axs[n].hist(sample, bins=np.arange(-4, 4.5, 0.5))\n",
    "    axs[n].set_title('n={}'.format(sample_size))\n",
    "plt.xticks(np.arange(-4, 4.1, 1))"
   ]
  },
  {
   "cell_type": "markdown",
   "metadata": {
    "collapsed": true
   },
   "source": [
    "# Boxplot"
   ]
  },
  {
   "cell_type": "markdown",
   "metadata": {},
   "source": [
    "### Example 16"
   ]
  },
  {
   "cell_type": "code",
   "execution_count": null,
   "metadata": {},
   "outputs": [],
   "source": [
    "plt.figure()\n",
    "# create a boxplot of the normal data, assign the output to a variable to supress output\n",
    "normal_sample = np.random.normal(loc=0.0, scale=1.0, size=10000)\n",
    "random_sample = np.random.random(size=10000)\n",
    "gamma_sample = np.random.gamma(2, size=10000)\n",
    "\n",
    "ax = plt.boxplot([normal_sample, random_sample, gamma_sample], whis=[5,95]) #'range')"
   ]
  },
  {
   "cell_type": "code",
   "execution_count": null,
   "metadata": {},
   "outputs": [],
   "source": [
    "# ax.xticks(['normal', 'random', 'gamma'])\n",
    "plt.xticks([1, 2, 3], ['normal', 'random', 'gamma'])"
   ]
  },
  {
   "cell_type": "markdown",
   "metadata": {
    "collapsed": true
   },
   "source": [
    "# Heatmaps"
   ]
  },
  {
   "cell_type": "markdown",
   "metadata": {},
   "source": [
    "### Example 17"
   ]
  },
  {
   "cell_type": "code",
   "execution_count": null,
   "metadata": {},
   "outputs": [],
   "source": [
    "plt.figure()\n",
    "\n",
    "Y = np.random.normal(loc=0.0, scale=1.0, size=10000)\n",
    "X = np.random.random(size=10000)\n",
    "ax = plt.hist2d(X, Y, bins=25)"
   ]
  },
  {
   "cell_type": "code",
   "execution_count": null,
   "metadata": {},
   "outputs": [],
   "source": [
    "plt.colorbar()"
   ]
  },
  {
   "cell_type": "markdown",
   "metadata": {},
   "source": [
    "### Example 18"
   ]
  },
  {
   "cell_type": "code",
   "execution_count": null,
   "metadata": {},
   "outputs": [],
   "source": [
    "plt.figure()\n",
    "ax = plt.hist2d(X, Y, bins=100)\n",
    "plt.colorbar()"
   ]
  },
  {
   "cell_type": "markdown",
   "metadata": {},
   "source": [
    "# Animations"
   ]
  },
  {
   "cell_type": "markdown",
   "metadata": {},
   "source": [
    "### Example 19"
   ]
  },
  {
   "cell_type": "code",
   "execution_count": null,
   "metadata": {
    "collapsed": true
   },
   "outputs": [],
   "source": [
    "import matplotlib.animation as animation\n",
    "\n",
    "n = 100\n",
    "x = np.random.randn(n)"
   ]
  },
  {
   "cell_type": "code",
   "execution_count": null,
   "metadata": {
    "collapsed": true
   },
   "outputs": [],
   "source": [
    "# create the function that will do the plotting, where curr is the current frame\n",
    "def update(curr):\n",
    "    # check if animation is at the last frame, and if so, stop the animation a\n",
    "    if curr == n: \n",
    "        a.event_source.stop()\n",
    "    plt.cla()\n",
    "    bins = np.arange(-4, 4, 0.5)\n",
    "    plt.hist(x[:curr], bins=bins)\n",
    "    plt.axis([-4,4,0,30])\n",
    "    plt.gca().set_title('Sampling the Normal Distribution')\n",
    "    plt.gca().set_ylabel('Frequency')\n",
    "    plt.gca().set_xlabel('Value')\n",
    "    plt.annotate('n = {}'.format(curr), [3,27])"
   ]
  },
  {
   "cell_type": "code",
   "execution_count": null,
   "metadata": {},
   "outputs": [],
   "source": [
    "fig = plt.figure()\n",
    "a = animation.FuncAnimation(fig, update, interval=100)"
   ]
  },
  {
   "cell_type": "markdown",
   "metadata": {
    "collapsed": true
   },
   "source": [
    "# Part 2: Pandas Visualizations"
   ]
  },
  {
   "cell_type": "code",
   "execution_count": null,
   "metadata": {
    "collapsed": true
   },
   "outputs": [],
   "source": [
    "import pandas as pd\n",
    "\n",
    "pd.options.display.max_columns = 200"
   ]
  },
  {
   "cell_type": "code",
   "execution_count": null,
   "metadata": {},
   "outputs": [],
   "source": [
    "np.random.seed(123)\n",
    "\n",
    "# df = pd.DataFrame({'A': np.random.randn(365).cumsum(0), \n",
    "#                    'B': np.random.randn(365).cumsum(0) + 20,\n",
    "#                    'C': np.random.randn(365).cumsum(0) - 20}, \n",
    "#                   index=pd.date_range('1/1/2017', periods=365))\n",
    "df = pd.DataFrame({'A': np.random.randn(365), \n",
    "                   'B': np.random.randn(365) + 20,\n",
    "                   'C': np.random.randn(365) - 20}, \n",
    "                  index=pd.date_range('1/1/2017', periods=365))\n",
    "df.shape"
   ]
  },
  {
   "cell_type": "code",
   "execution_count": null,
   "metadata": {
    "scrolled": false
   },
   "outputs": [],
   "source": [
    "df.head()"
   ]
  },
  {
   "cell_type": "markdown",
   "metadata": {},
   "source": [
    "### Example 20"
   ]
  },
  {
   "cell_type": "code",
   "execution_count": null,
   "metadata": {},
   "outputs": [],
   "source": [
    "df.plot('A', 'B', kind = 'scatter');"
   ]
  },
  {
   "cell_type": "markdown",
   "metadata": {},
   "source": [
    "You can also choose the plot kind by using the `DataFrame.plot.kind` methods instead of providing the `kind` keyword argument.\n",
    "\n",
    "`kind` :\n",
    "- `'line'` : line plot (default)\n",
    "- `'bar'` : vertical bar plot\n",
    "- `'barh'` : horizontal bar plot\n",
    "- `'hist'` : histogram\n",
    "- `'box'` : boxplot\n",
    "- `'kde'` : Kernel Density Estimation plot\n",
    "- `'density'` : same as 'kde'\n",
    "- `'area'` : area plot\n",
    "- `'pie'` : pie plot\n",
    "- `'scatter'` : scatter plot\n",
    "- `'hexbin'` : hexbin plot"
   ]
  },
  {
   "cell_type": "markdown",
   "metadata": {},
   "source": [
    "### Example 21"
   ]
  },
  {
   "cell_type": "code",
   "execution_count": null,
   "metadata": {},
   "outputs": [],
   "source": [
    "# create a scatter plot of columns 'A' and 'C', with changing color (c) and size (s) based on column 'B'\n",
    "ax = df.plot.scatter('A', 'C', c='B', s=df['B'], colormap='viridis')"
   ]
  },
  {
   "cell_type": "code",
   "execution_count": null,
   "metadata": {
    "collapsed": true
   },
   "outputs": [],
   "source": [
    "ax.set_aspect('equal')"
   ]
  },
  {
   "cell_type": "markdown",
   "metadata": {},
   "source": [
    "### Example 22"
   ]
  },
  {
   "cell_type": "code",
   "execution_count": null,
   "metadata": {},
   "outputs": [],
   "source": [
    "df.plot.box();"
   ]
  },
  {
   "cell_type": "markdown",
   "metadata": {},
   "source": [
    "### Example 23"
   ]
  },
  {
   "cell_type": "code",
   "execution_count": null,
   "metadata": {},
   "outputs": [],
   "source": [
    "df.plot.hist(alpha=0.7, bins = 30);"
   ]
  },
  {
   "cell_type": "markdown",
   "metadata": {},
   "source": [
    "### Example 24"
   ]
  },
  {
   "cell_type": "code",
   "execution_count": null,
   "metadata": {},
   "outputs": [],
   "source": [
    "df.plot.kde();"
   ]
  },
  {
   "cell_type": "markdown",
   "metadata": {
    "collapsed": true
   },
   "source": [
    "# The End"
   ]
  }
 ],
 "metadata": {
  "kernelspec": {
   "display_name": "Python 2",
   "language": "python",
   "name": "python2"
  },
  "language_info": {
   "codemirror_mode": {
    "name": "ipython",
    "version": 2
   },
   "file_extension": ".py",
   "mimetype": "text/x-python",
   "name": "python",
   "nbconvert_exporter": "python",
   "pygments_lexer": "ipython2",
   "version": "2.7.13"
  }
 },
 "nbformat": 4,
 "nbformat_minor": 2
}
