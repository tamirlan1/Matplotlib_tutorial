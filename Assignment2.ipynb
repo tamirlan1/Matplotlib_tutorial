{
 "cells": [
  {
   "cell_type": "markdown",
   "metadata": {},
   "source": [
    "# Assignment 2\n",
    "\n",
    "Before working on this assignment please read these instructions fully. In the submission area, you will notice that you can click the link to **Preview the Grading** for each step of the assignment. This is the criteria that will be used for peer grading. Please familiarize yourself with the criteria before beginning the assignment.\n",
    "\n",
    "An NOAA dataset has been stored in the file `data/C2A2_data/BinnedCsvs_d400/9ea1109f79cbb97b7c1ffa5279925674c0cd8f1f85ccfdd1cd56b5cf.csv`. The data for this assignment comes from a subset of The National Centers for Environmental Information (NCEI) [Daily Global Historical Climatology Network](https://www1.ncdc.noaa.gov/pub/data/ghcn/daily/readme.txt) (GHCN-Daily). The GHCN-Daily is comprised of daily climate records from thousands of land surface stations across the globe.\n",
    "\n",
    "Each row in the assignment datafile corresponds to a single observation.\n",
    "\n",
    "The following variables are provided to you:\n",
    "\n",
    "* **id** : station identification code\n",
    "* **date** : date in YYYY-MM-DD format (e.g. 2012-01-24 = January 24, 2012)\n",
    "* **element** : indicator of element type\n",
    "    * TMAX : Maximum temperature (tenths of degrees C)\n",
    "    * TMIN : Minimum temperature (tenths of degrees C)\n",
    "* **value** : data value for element (tenths of degrees C)\n",
    "\n",
    "For this assignment, you must:\n",
    "\n",
    "1. Read the documentation and familiarize yourself with the dataset, then write some python code which returns a line graph of the record high and record low temperatures by day of the year over the period 2005-2014. The area between the record high and record low temperatures for each day should be shaded.\n",
    "2. Overlay a scatter of the 2015 data for any points (highs and lows) for which the ten year record (2005-2014) record high or record low was broken in 2015.\n",
    "3. Watch out for leap days (i.e. February 29th), it is reasonable to remove these points from the dataset for the purpose of this visualization.\n",
    "4. Make the visual nice! Leverage principles from the first module in this course when developing your solution. Consider issues such as legends, labels, and chart junk.\n",
    "\n",
    "The data you have been given is near **Chicago, Illinois, United States**, and the stations the data comes from are shown on the map below."
   ]
  },
  {
   "cell_type": "code",
   "execution_count": 38,
   "metadata": {
    "collapsed": true
   },
   "outputs": [],
   "source": [
    "%matplotlib notebook"
   ]
  },
  {
   "cell_type": "code",
   "execution_count": 44,
   "metadata": {
    "collapsed": false,
    "scrolled": true
   },
   "outputs": [],
   "source": [
    "# import matplotlib.pyplot as plt\n",
    "# import mplleaflet\n",
    "# import pandas as pd\n",
    "\n",
    "# def leaflet_plot_stations(binsize, hashid):\n",
    "\n",
    "#     df = pd.read_csv('data/C2A2_data/BinSize_d{}.csv'.format(binsize))\n",
    "\n",
    "#     station_locations_by_hash = df[df['hash'] == hashid]\n",
    "\n",
    "#     lons = station_locations_by_hash['LONGITUDE'].tolist()\n",
    "#     lats = station_locations_by_hash['LATITUDE'].tolist()\n",
    "\n",
    "#     plt.figure(figsize=(8,8))\n",
    "\n",
    "#     plt.scatter(lons, lats, c='r', alpha=0.7, s=200)\n",
    "\n",
    "#     return mplleaflet.display()\n",
    "\n",
    "# leaflet_plot_stations(400,'9ea1109f79cbb97b7c1ffa5279925674c0cd8f1f85ccfdd1cd56b5cf')"
   ]
  },
  {
   "cell_type": "code",
   "execution_count": 40,
   "metadata": {
    "collapsed": true
   },
   "outputs": [],
   "source": [
    "import pandas as pd\n",
    "import numpy as np\n",
    "import matplotlib.pyplot as plt\n"
   ]
  },
  {
   "cell_type": "code",
   "execution_count": 41,
   "metadata": {
    "collapsed": false
   },
   "outputs": [
    {
     "data": {
      "text/plain": [
       "(132241, 4)"
      ]
     },
     "execution_count": 41,
     "metadata": {},
     "output_type": "execute_result"
    }
   ],
   "source": [
    "dfall = pd.read_csv('data/C2A2_data/BinnedCsvs_d400/9ea1109f79cbb97b7c1ffa5279925674c0cd8f1f85ccfdd1cd56b5cf.csv')\n",
    "dfall.shape"
   ]
  },
  {
   "cell_type": "code",
   "execution_count": 42,
   "metadata": {
    "collapsed": false
   },
   "outputs": [
    {
     "data": {
      "text/html": [
       "<div>\n",
       "<table border=\"1\" class=\"dataframe\">\n",
       "  <thead>\n",
       "    <tr style=\"text-align: right;\">\n",
       "      <th></th>\n",
       "      <th>ID</th>\n",
       "      <th>Date</th>\n",
       "      <th>Element</th>\n",
       "      <th>Data_Value</th>\n",
       "    </tr>\n",
       "  </thead>\n",
       "  <tbody>\n",
       "    <tr>\n",
       "      <th>0</th>\n",
       "      <td>USC00110338</td>\n",
       "      <td>2015-01-19</td>\n",
       "      <td>TMIN</td>\n",
       "      <td>-61</td>\n",
       "    </tr>\n",
       "    <tr>\n",
       "      <th>1</th>\n",
       "      <td>USC00115097</td>\n",
       "      <td>2011-07-01</td>\n",
       "      <td>TMIN</td>\n",
       "      <td>139</td>\n",
       "    </tr>\n",
       "    <tr>\n",
       "      <th>2</th>\n",
       "      <td>USC00110338</td>\n",
       "      <td>2005-11-19</td>\n",
       "      <td>TMAX</td>\n",
       "      <td>117</td>\n",
       "    </tr>\n",
       "    <tr>\n",
       "      <th>3</th>\n",
       "      <td>USC00110442</td>\n",
       "      <td>2013-11-21</td>\n",
       "      <td>TMIN</td>\n",
       "      <td>-11</td>\n",
       "    </tr>\n",
       "    <tr>\n",
       "      <th>4</th>\n",
       "      <td>USC00115326</td>\n",
       "      <td>2011-12-05</td>\n",
       "      <td>TMIN</td>\n",
       "      <td>0</td>\n",
       "    </tr>\n",
       "  </tbody>\n",
       "</table>\n",
       "</div>"
      ],
      "text/plain": [
       "            ID        Date Element  Data_Value\n",
       "0  USC00110338  2015-01-19    TMIN         -61\n",
       "1  USC00115097  2011-07-01    TMIN         139\n",
       "2  USC00110338  2005-11-19    TMAX         117\n",
       "3  USC00110442  2013-11-21    TMIN         -11\n",
       "4  USC00115326  2011-12-05    TMIN           0"
      ]
     },
     "execution_count": 42,
     "metadata": {},
     "output_type": "execute_result"
    }
   ],
   "source": [
    "dfall.head()"
   ]
  },
  {
   "cell_type": "code",
   "execution_count": 45,
   "metadata": {
    "collapsed": true
   },
   "outputs": [],
   "source": [
    "# dfall.leap = dfall.Date.where(lambda x: str(x).endswith('02-29'), True, False)\n",
    "dfall.Date = pd.to_datetime(dfall.Date)\n"
   ]
  },
  {
   "cell_type": "code",
   "execution_count": 46,
   "metadata": {
    "collapsed": false
   },
   "outputs": [
    {
     "name": "stderr",
     "output_type": "stream",
     "text": [
      "/opt/conda/lib/python3.5/site-packages/ipykernel/__main__.py:2: FutureWarning: sort(columns=....) is deprecated, use sort_values(by=.....)\n",
      "  from ipykernel import kernelapp as app\n"
     ]
    },
    {
     "data": {
      "text/plain": [
       "(120154, 4)"
      ]
     },
     "execution_count": 46,
     "metadata": {},
     "output_type": "execute_result"
    }
   ],
   "source": [
    "df = dfall[dfall.Date < pd.to_datetime('2015-01-01')]\n",
    "df = df.sort('Date')\n",
    "df.shape"
   ]
  },
  {
   "cell_type": "code",
   "execution_count": 47,
   "metadata": {
    "collapsed": false
   },
   "outputs": [],
   "source": [
    "df['month_day'] = df.Date.map(lambda x: x.strftime('%m-%d'))"
   ]
  },
  {
   "cell_type": "code",
   "execution_count": 48,
   "metadata": {
    "collapsed": false
   },
   "outputs": [
    {
     "name": "stdout",
     "output_type": "stream",
     "text": [
      "(60039, 5)\n"
     ]
    },
    {
     "data": {
      "text/plain": [
       "(366, 2)"
      ]
     },
     "execution_count": 48,
     "metadata": {},
     "output_type": "execute_result"
    }
   ],
   "source": [
    "dfmin = df[df.Element == 'TMIN']\n",
    "print (dfmin.shape)\n",
    "min_gr = dfmin[['month_day', 'Data_Value']].groupby('month_day').min().reset_index()\n",
    "# df.Date = pd.to_datetime(df.Date)\n",
    "min_gr.shape"
   ]
  },
  {
   "cell_type": "code",
   "execution_count": 49,
   "metadata": {
    "collapsed": false
   },
   "outputs": [
    {
     "name": "stdout",
     "output_type": "stream",
     "text": [
      "(60115, 5)\n"
     ]
    },
    {
     "data": {
      "text/plain": [
       "(366, 2)"
      ]
     },
     "execution_count": 49,
     "metadata": {},
     "output_type": "execute_result"
    }
   ],
   "source": [
    "dfmax = df[df.Element == 'TMAX']\n",
    "print (dfmax.shape)\n",
    "max_gr = dfmax[['month_day', 'Data_Value']].groupby('month_day').max().reset_index()\n",
    "max_gr.shape"
   ]
  },
  {
   "cell_type": "code",
   "execution_count": 50,
   "metadata": {
    "collapsed": false
   },
   "outputs": [
    {
     "data": {
      "text/plain": [
       "(-360, 406, 15, 186)"
      ]
     },
     "execution_count": 50,
     "metadata": {},
     "output_type": "execute_result"
    }
   ],
   "source": [
    "absmin = min(min_gr.Data_Value)\n",
    "absmax = max(max_gr.Data_Value)\n",
    "idmin = min_gr.Data_Value.idxmin()\n",
    "idmax = max_gr.Data_Value.idxmax()\n",
    "absmin, absmax, idmin, idmax"
   ]
  },
  {
   "cell_type": "code",
   "execution_count": 79,
   "metadata": {
    "collapsed": false,
    "scrolled": false
   },
   "outputs": [
    {
     "data": {
      "application/javascript": [
       "/* Put everything inside the global mpl namespace */\n",
       "window.mpl = {};\n",
       "\n",
       "\n",
       "mpl.get_websocket_type = function() {\n",
       "    if (typeof(WebSocket) !== 'undefined') {\n",
       "        return WebSocket;\n",
       "    } else if (typeof(MozWebSocket) !== 'undefined') {\n",
       "        return MozWebSocket;\n",
       "    } else {\n",
       "        alert('Your browser does not have WebSocket support.' +\n",
       "              'Please try Chrome, Safari or Firefox ≥ 6. ' +\n",
       "              'Firefox 4 and 5 are also supported but you ' +\n",
       "              'have to enable WebSockets in about:config.');\n",
       "    };\n",
       "}\n",
       "\n",
       "mpl.figure = function(figure_id, websocket, ondownload, parent_element) {\n",
       "    this.id = figure_id;\n",
       "\n",
       "    this.ws = websocket;\n",
       "\n",
       "    this.supports_binary = (this.ws.binaryType != undefined);\n",
       "\n",
       "    if (!this.supports_binary) {\n",
       "        var warnings = document.getElementById(\"mpl-warnings\");\n",
       "        if (warnings) {\n",
       "            warnings.style.display = 'block';\n",
       "            warnings.textContent = (\n",
       "                \"This browser does not support binary websocket messages. \" +\n",
       "                    \"Performance may be slow.\");\n",
       "        }\n",
       "    }\n",
       "\n",
       "    this.imageObj = new Image();\n",
       "\n",
       "    this.context = undefined;\n",
       "    this.message = undefined;\n",
       "    this.canvas = undefined;\n",
       "    this.rubberband_canvas = undefined;\n",
       "    this.rubberband_context = undefined;\n",
       "    this.format_dropdown = undefined;\n",
       "\n",
       "    this.image_mode = 'full';\n",
       "\n",
       "    this.root = $('<div/>');\n",
       "    this._root_extra_style(this.root)\n",
       "    this.root.attr('style', 'display: inline-block');\n",
       "\n",
       "    $(parent_element).append(this.root);\n",
       "\n",
       "    this._init_header(this);\n",
       "    this._init_canvas(this);\n",
       "    this._init_toolbar(this);\n",
       "\n",
       "    var fig = this;\n",
       "\n",
       "    this.waiting = false;\n",
       "\n",
       "    this.ws.onopen =  function () {\n",
       "            fig.send_message(\"supports_binary\", {value: fig.supports_binary});\n",
       "            fig.send_message(\"send_image_mode\", {});\n",
       "            if (mpl.ratio != 1) {\n",
       "                fig.send_message(\"set_dpi_ratio\", {'dpi_ratio': mpl.ratio});\n",
       "            }\n",
       "            fig.send_message(\"refresh\", {});\n",
       "        }\n",
       "\n",
       "    this.imageObj.onload = function() {\n",
       "            if (fig.image_mode == 'full') {\n",
       "                // Full images could contain transparency (where diff images\n",
       "                // almost always do), so we need to clear the canvas so that\n",
       "                // there is no ghosting.\n",
       "                fig.context.clearRect(0, 0, fig.canvas.width, fig.canvas.height);\n",
       "            }\n",
       "            fig.context.drawImage(fig.imageObj, 0, 0);\n",
       "        };\n",
       "\n",
       "    this.imageObj.onunload = function() {\n",
       "        this.ws.close();\n",
       "    }\n",
       "\n",
       "    this.ws.onmessage = this._make_on_message_function(this);\n",
       "\n",
       "    this.ondownload = ondownload;\n",
       "}\n",
       "\n",
       "mpl.figure.prototype._init_header = function() {\n",
       "    var titlebar = $(\n",
       "        '<div class=\"ui-dialog-titlebar ui-widget-header ui-corner-all ' +\n",
       "        'ui-helper-clearfix\"/>');\n",
       "    var titletext = $(\n",
       "        '<div class=\"ui-dialog-title\" style=\"width: 100%; ' +\n",
       "        'text-align: center; padding: 3px;\"/>');\n",
       "    titlebar.append(titletext)\n",
       "    this.root.append(titlebar);\n",
       "    this.header = titletext[0];\n",
       "}\n",
       "\n",
       "\n",
       "\n",
       "mpl.figure.prototype._canvas_extra_style = function(canvas_div) {\n",
       "\n",
       "}\n",
       "\n",
       "\n",
       "mpl.figure.prototype._root_extra_style = function(canvas_div) {\n",
       "\n",
       "}\n",
       "\n",
       "mpl.figure.prototype._init_canvas = function() {\n",
       "    var fig = this;\n",
       "\n",
       "    var canvas_div = $('<div/>');\n",
       "\n",
       "    canvas_div.attr('style', 'position: relative; clear: both; outline: 0');\n",
       "\n",
       "    function canvas_keyboard_event(event) {\n",
       "        return fig.key_event(event, event['data']);\n",
       "    }\n",
       "\n",
       "    canvas_div.keydown('key_press', canvas_keyboard_event);\n",
       "    canvas_div.keyup('key_release', canvas_keyboard_event);\n",
       "    this.canvas_div = canvas_div\n",
       "    this._canvas_extra_style(canvas_div)\n",
       "    this.root.append(canvas_div);\n",
       "\n",
       "    var canvas = $('<canvas/>');\n",
       "    canvas.addClass('mpl-canvas');\n",
       "    canvas.attr('style', \"left: 0; top: 0; z-index: 0; outline: 0\")\n",
       "\n",
       "    this.canvas = canvas[0];\n",
       "    this.context = canvas[0].getContext(\"2d\");\n",
       "\n",
       "    var backingStore = this.context.backingStorePixelRatio ||\n",
       "\tthis.context.webkitBackingStorePixelRatio ||\n",
       "\tthis.context.mozBackingStorePixelRatio ||\n",
       "\tthis.context.msBackingStorePixelRatio ||\n",
       "\tthis.context.oBackingStorePixelRatio ||\n",
       "\tthis.context.backingStorePixelRatio || 1;\n",
       "\n",
       "    mpl.ratio = (window.devicePixelRatio || 1) / backingStore;\n",
       "\n",
       "    var rubberband = $('<canvas/>');\n",
       "    rubberband.attr('style', \"position: absolute; left: 0; top: 0; z-index: 1;\")\n",
       "\n",
       "    var pass_mouse_events = true;\n",
       "\n",
       "    canvas_div.resizable({\n",
       "        start: function(event, ui) {\n",
       "            pass_mouse_events = false;\n",
       "        },\n",
       "        resize: function(event, ui) {\n",
       "            fig.request_resize(ui.size.width, ui.size.height);\n",
       "        },\n",
       "        stop: function(event, ui) {\n",
       "            pass_mouse_events = true;\n",
       "            fig.request_resize(ui.size.width, ui.size.height);\n",
       "        },\n",
       "    });\n",
       "\n",
       "    function mouse_event_fn(event) {\n",
       "        if (pass_mouse_events)\n",
       "            return fig.mouse_event(event, event['data']);\n",
       "    }\n",
       "\n",
       "    rubberband.mousedown('button_press', mouse_event_fn);\n",
       "    rubberband.mouseup('button_release', mouse_event_fn);\n",
       "    // Throttle sequential mouse events to 1 every 20ms.\n",
       "    rubberband.mousemove('motion_notify', mouse_event_fn);\n",
       "\n",
       "    rubberband.mouseenter('figure_enter', mouse_event_fn);\n",
       "    rubberband.mouseleave('figure_leave', mouse_event_fn);\n",
       "\n",
       "    canvas_div.on(\"wheel\", function (event) {\n",
       "        event = event.originalEvent;\n",
       "        event['data'] = 'scroll'\n",
       "        if (event.deltaY < 0) {\n",
       "            event.step = 1;\n",
       "        } else {\n",
       "            event.step = -1;\n",
       "        }\n",
       "        mouse_event_fn(event);\n",
       "    });\n",
       "\n",
       "    canvas_div.append(canvas);\n",
       "    canvas_div.append(rubberband);\n",
       "\n",
       "    this.rubberband = rubberband;\n",
       "    this.rubberband_canvas = rubberband[0];\n",
       "    this.rubberband_context = rubberband[0].getContext(\"2d\");\n",
       "    this.rubberband_context.strokeStyle = \"#000000\";\n",
       "\n",
       "    this._resize_canvas = function(width, height) {\n",
       "        // Keep the size of the canvas, canvas container, and rubber band\n",
       "        // canvas in synch.\n",
       "        canvas_div.css('width', width)\n",
       "        canvas_div.css('height', height)\n",
       "\n",
       "        canvas.attr('width', width * mpl.ratio);\n",
       "        canvas.attr('height', height * mpl.ratio);\n",
       "        canvas.attr('style', 'width: ' + width + 'px; height: ' + height + 'px;');\n",
       "\n",
       "        rubberband.attr('width', width);\n",
       "        rubberband.attr('height', height);\n",
       "    }\n",
       "\n",
       "    // Set the figure to an initial 600x600px, this will subsequently be updated\n",
       "    // upon first draw.\n",
       "    this._resize_canvas(600, 600);\n",
       "\n",
       "    // Disable right mouse context menu.\n",
       "    $(this.rubberband_canvas).bind(\"contextmenu\",function(e){\n",
       "        return false;\n",
       "    });\n",
       "\n",
       "    function set_focus () {\n",
       "        canvas.focus();\n",
       "        canvas_div.focus();\n",
       "    }\n",
       "\n",
       "    window.setTimeout(set_focus, 100);\n",
       "}\n",
       "\n",
       "mpl.figure.prototype._init_toolbar = function() {\n",
       "    var fig = this;\n",
       "\n",
       "    var nav_element = $('<div/>')\n",
       "    nav_element.attr('style', 'width: 100%');\n",
       "    this.root.append(nav_element);\n",
       "\n",
       "    // Define a callback function for later on.\n",
       "    function toolbar_event(event) {\n",
       "        return fig.toolbar_button_onclick(event['data']);\n",
       "    }\n",
       "    function toolbar_mouse_event(event) {\n",
       "        return fig.toolbar_button_onmouseover(event['data']);\n",
       "    }\n",
       "\n",
       "    for(var toolbar_ind in mpl.toolbar_items) {\n",
       "        var name = mpl.toolbar_items[toolbar_ind][0];\n",
       "        var tooltip = mpl.toolbar_items[toolbar_ind][1];\n",
       "        var image = mpl.toolbar_items[toolbar_ind][2];\n",
       "        var method_name = mpl.toolbar_items[toolbar_ind][3];\n",
       "\n",
       "        if (!name) {\n",
       "            // put a spacer in here.\n",
       "            continue;\n",
       "        }\n",
       "        var button = $('<button/>');\n",
       "        button.addClass('ui-button ui-widget ui-state-default ui-corner-all ' +\n",
       "                        'ui-button-icon-only');\n",
       "        button.attr('role', 'button');\n",
       "        button.attr('aria-disabled', 'false');\n",
       "        button.click(method_name, toolbar_event);\n",
       "        button.mouseover(tooltip, toolbar_mouse_event);\n",
       "\n",
       "        var icon_img = $('<span/>');\n",
       "        icon_img.addClass('ui-button-icon-primary ui-icon');\n",
       "        icon_img.addClass(image);\n",
       "        icon_img.addClass('ui-corner-all');\n",
       "\n",
       "        var tooltip_span = $('<span/>');\n",
       "        tooltip_span.addClass('ui-button-text');\n",
       "        tooltip_span.html(tooltip);\n",
       "\n",
       "        button.append(icon_img);\n",
       "        button.append(tooltip_span);\n",
       "\n",
       "        nav_element.append(button);\n",
       "    }\n",
       "\n",
       "    var fmt_picker_span = $('<span/>');\n",
       "\n",
       "    var fmt_picker = $('<select/>');\n",
       "    fmt_picker.addClass('mpl-toolbar-option ui-widget ui-widget-content');\n",
       "    fmt_picker_span.append(fmt_picker);\n",
       "    nav_element.append(fmt_picker_span);\n",
       "    this.format_dropdown = fmt_picker[0];\n",
       "\n",
       "    for (var ind in mpl.extensions) {\n",
       "        var fmt = mpl.extensions[ind];\n",
       "        var option = $(\n",
       "            '<option/>', {selected: fmt === mpl.default_extension}).html(fmt);\n",
       "        fmt_picker.append(option)\n",
       "    }\n",
       "\n",
       "    // Add hover states to the ui-buttons\n",
       "    $( \".ui-button\" ).hover(\n",
       "        function() { $(this).addClass(\"ui-state-hover\");},\n",
       "        function() { $(this).removeClass(\"ui-state-hover\");}\n",
       "    );\n",
       "\n",
       "    var status_bar = $('<span class=\"mpl-message\"/>');\n",
       "    nav_element.append(status_bar);\n",
       "    this.message = status_bar[0];\n",
       "}\n",
       "\n",
       "mpl.figure.prototype.request_resize = function(x_pixels, y_pixels) {\n",
       "    // Request matplotlib to resize the figure. Matplotlib will then trigger a resize in the client,\n",
       "    // which will in turn request a refresh of the image.\n",
       "    this.send_message('resize', {'width': x_pixels, 'height': y_pixels});\n",
       "}\n",
       "\n",
       "mpl.figure.prototype.send_message = function(type, properties) {\n",
       "    properties['type'] = type;\n",
       "    properties['figure_id'] = this.id;\n",
       "    this.ws.send(JSON.stringify(properties));\n",
       "}\n",
       "\n",
       "mpl.figure.prototype.send_draw_message = function() {\n",
       "    if (!this.waiting) {\n",
       "        this.waiting = true;\n",
       "        this.ws.send(JSON.stringify({type: \"draw\", figure_id: this.id}));\n",
       "    }\n",
       "}\n",
       "\n",
       "\n",
       "mpl.figure.prototype.handle_save = function(fig, msg) {\n",
       "    var format_dropdown = fig.format_dropdown;\n",
       "    var format = format_dropdown.options[format_dropdown.selectedIndex].value;\n",
       "    fig.ondownload(fig, format);\n",
       "}\n",
       "\n",
       "\n",
       "mpl.figure.prototype.handle_resize = function(fig, msg) {\n",
       "    var size = msg['size'];\n",
       "    if (size[0] != fig.canvas.width || size[1] != fig.canvas.height) {\n",
       "        fig._resize_canvas(size[0], size[1]);\n",
       "        fig.send_message(\"refresh\", {});\n",
       "    };\n",
       "}\n",
       "\n",
       "mpl.figure.prototype.handle_rubberband = function(fig, msg) {\n",
       "    var x0 = msg['x0'] / mpl.ratio;\n",
       "    var y0 = (fig.canvas.height - msg['y0']) / mpl.ratio;\n",
       "    var x1 = msg['x1'] / mpl.ratio;\n",
       "    var y1 = (fig.canvas.height - msg['y1']) / mpl.ratio;\n",
       "    x0 = Math.floor(x0) + 0.5;\n",
       "    y0 = Math.floor(y0) + 0.5;\n",
       "    x1 = Math.floor(x1) + 0.5;\n",
       "    y1 = Math.floor(y1) + 0.5;\n",
       "    var min_x = Math.min(x0, x1);\n",
       "    var min_y = Math.min(y0, y1);\n",
       "    var width = Math.abs(x1 - x0);\n",
       "    var height = Math.abs(y1 - y0);\n",
       "\n",
       "    fig.rubberband_context.clearRect(\n",
       "        0, 0, fig.canvas.width, fig.canvas.height);\n",
       "\n",
       "    fig.rubberband_context.strokeRect(min_x, min_y, width, height);\n",
       "}\n",
       "\n",
       "mpl.figure.prototype.handle_figure_label = function(fig, msg) {\n",
       "    // Updates the figure title.\n",
       "    fig.header.textContent = msg['label'];\n",
       "}\n",
       "\n",
       "mpl.figure.prototype.handle_cursor = function(fig, msg) {\n",
       "    var cursor = msg['cursor'];\n",
       "    switch(cursor)\n",
       "    {\n",
       "    case 0:\n",
       "        cursor = 'pointer';\n",
       "        break;\n",
       "    case 1:\n",
       "        cursor = 'default';\n",
       "        break;\n",
       "    case 2:\n",
       "        cursor = 'crosshair';\n",
       "        break;\n",
       "    case 3:\n",
       "        cursor = 'move';\n",
       "        break;\n",
       "    }\n",
       "    fig.rubberband_canvas.style.cursor = cursor;\n",
       "}\n",
       "\n",
       "mpl.figure.prototype.handle_message = function(fig, msg) {\n",
       "    fig.message.textContent = msg['message'];\n",
       "}\n",
       "\n",
       "mpl.figure.prototype.handle_draw = function(fig, msg) {\n",
       "    // Request the server to send over a new figure.\n",
       "    fig.send_draw_message();\n",
       "}\n",
       "\n",
       "mpl.figure.prototype.handle_image_mode = function(fig, msg) {\n",
       "    fig.image_mode = msg['mode'];\n",
       "}\n",
       "\n",
       "mpl.figure.prototype.updated_canvas_event = function() {\n",
       "    // Called whenever the canvas gets updated.\n",
       "    this.send_message(\"ack\", {});\n",
       "}\n",
       "\n",
       "// A function to construct a web socket function for onmessage handling.\n",
       "// Called in the figure constructor.\n",
       "mpl.figure.prototype._make_on_message_function = function(fig) {\n",
       "    return function socket_on_message(evt) {\n",
       "        if (evt.data instanceof Blob) {\n",
       "            /* FIXME: We get \"Resource interpreted as Image but\n",
       "             * transferred with MIME type text/plain:\" errors on\n",
       "             * Chrome.  But how to set the MIME type?  It doesn't seem\n",
       "             * to be part of the websocket stream */\n",
       "            evt.data.type = \"image/png\";\n",
       "\n",
       "            /* Free the memory for the previous frames */\n",
       "            if (fig.imageObj.src) {\n",
       "                (window.URL || window.webkitURL).revokeObjectURL(\n",
       "                    fig.imageObj.src);\n",
       "            }\n",
       "\n",
       "            fig.imageObj.src = (window.URL || window.webkitURL).createObjectURL(\n",
       "                evt.data);\n",
       "            fig.updated_canvas_event();\n",
       "            fig.waiting = false;\n",
       "            return;\n",
       "        }\n",
       "        else if (typeof evt.data === 'string' && evt.data.slice(0, 21) == \"data:image/png;base64\") {\n",
       "            fig.imageObj.src = evt.data;\n",
       "            fig.updated_canvas_event();\n",
       "            fig.waiting = false;\n",
       "            return;\n",
       "        }\n",
       "\n",
       "        var msg = JSON.parse(evt.data);\n",
       "        var msg_type = msg['type'];\n",
       "\n",
       "        // Call the  \"handle_{type}\" callback, which takes\n",
       "        // the figure and JSON message as its only arguments.\n",
       "        try {\n",
       "            var callback = fig[\"handle_\" + msg_type];\n",
       "        } catch (e) {\n",
       "            console.log(\"No handler for the '\" + msg_type + \"' message type: \", msg);\n",
       "            return;\n",
       "        }\n",
       "\n",
       "        if (callback) {\n",
       "            try {\n",
       "                // console.log(\"Handling '\" + msg_type + \"' message: \", msg);\n",
       "                callback(fig, msg);\n",
       "            } catch (e) {\n",
       "                console.log(\"Exception inside the 'handler_\" + msg_type + \"' callback:\", e, e.stack, msg);\n",
       "            }\n",
       "        }\n",
       "    };\n",
       "}\n",
       "\n",
       "// from http://stackoverflow.com/questions/1114465/getting-mouse-location-in-canvas\n",
       "mpl.findpos = function(e) {\n",
       "    //this section is from http://www.quirksmode.org/js/events_properties.html\n",
       "    var targ;\n",
       "    if (!e)\n",
       "        e = window.event;\n",
       "    if (e.target)\n",
       "        targ = e.target;\n",
       "    else if (e.srcElement)\n",
       "        targ = e.srcElement;\n",
       "    if (targ.nodeType == 3) // defeat Safari bug\n",
       "        targ = targ.parentNode;\n",
       "\n",
       "    // jQuery normalizes the pageX and pageY\n",
       "    // pageX,Y are the mouse positions relative to the document\n",
       "    // offset() returns the position of the element relative to the document\n",
       "    var x = e.pageX - $(targ).offset().left;\n",
       "    var y = e.pageY - $(targ).offset().top;\n",
       "\n",
       "    return {\"x\": x, \"y\": y};\n",
       "};\n",
       "\n",
       "/*\n",
       " * return a copy of an object with only non-object keys\n",
       " * we need this to avoid circular references\n",
       " * http://stackoverflow.com/a/24161582/3208463\n",
       " */\n",
       "function simpleKeys (original) {\n",
       "  return Object.keys(original).reduce(function (obj, key) {\n",
       "    if (typeof original[key] !== 'object')\n",
       "        obj[key] = original[key]\n",
       "    return obj;\n",
       "  }, {});\n",
       "}\n",
       "\n",
       "mpl.figure.prototype.mouse_event = function(event, name) {\n",
       "    var canvas_pos = mpl.findpos(event)\n",
       "\n",
       "    if (name === 'button_press')\n",
       "    {\n",
       "        this.canvas.focus();\n",
       "        this.canvas_div.focus();\n",
       "    }\n",
       "\n",
       "    var x = canvas_pos.x * mpl.ratio;\n",
       "    var y = canvas_pos.y * mpl.ratio;\n",
       "\n",
       "    this.send_message(name, {x: x, y: y, button: event.button,\n",
       "                             step: event.step,\n",
       "                             guiEvent: simpleKeys(event)});\n",
       "\n",
       "    /* This prevents the web browser from automatically changing to\n",
       "     * the text insertion cursor when the button is pressed.  We want\n",
       "     * to control all of the cursor setting manually through the\n",
       "     * 'cursor' event from matplotlib */\n",
       "    event.preventDefault();\n",
       "    return false;\n",
       "}\n",
       "\n",
       "mpl.figure.prototype._key_event_extra = function(event, name) {\n",
       "    // Handle any extra behaviour associated with a key event\n",
       "}\n",
       "\n",
       "mpl.figure.prototype.key_event = function(event, name) {\n",
       "\n",
       "    // Prevent repeat events\n",
       "    if (name == 'key_press')\n",
       "    {\n",
       "        if (event.which === this._key)\n",
       "            return;\n",
       "        else\n",
       "            this._key = event.which;\n",
       "    }\n",
       "    if (name == 'key_release')\n",
       "        this._key = null;\n",
       "\n",
       "    var value = '';\n",
       "    if (event.ctrlKey && event.which != 17)\n",
       "        value += \"ctrl+\";\n",
       "    if (event.altKey && event.which != 18)\n",
       "        value += \"alt+\";\n",
       "    if (event.shiftKey && event.which != 16)\n",
       "        value += \"shift+\";\n",
       "\n",
       "    value += 'k';\n",
       "    value += event.which.toString();\n",
       "\n",
       "    this._key_event_extra(event, name);\n",
       "\n",
       "    this.send_message(name, {key: value,\n",
       "                             guiEvent: simpleKeys(event)});\n",
       "    return false;\n",
       "}\n",
       "\n",
       "mpl.figure.prototype.toolbar_button_onclick = function(name) {\n",
       "    if (name == 'download') {\n",
       "        this.handle_save(this, null);\n",
       "    } else {\n",
       "        this.send_message(\"toolbar_button\", {name: name});\n",
       "    }\n",
       "};\n",
       "\n",
       "mpl.figure.prototype.toolbar_button_onmouseover = function(tooltip) {\n",
       "    this.message.textContent = tooltip;\n",
       "};\n",
       "mpl.toolbar_items = [[\"Home\", \"Reset original view\", \"fa fa-home icon-home\", \"home\"], [\"Back\", \"Back to  previous view\", \"fa fa-arrow-left icon-arrow-left\", \"back\"], [\"Forward\", \"Forward to next view\", \"fa fa-arrow-right icon-arrow-right\", \"forward\"], [\"\", \"\", \"\", \"\"], [\"Pan\", \"Pan axes with left mouse, zoom with right\", \"fa fa-arrows icon-move\", \"pan\"], [\"Zoom\", \"Zoom to rectangle\", \"fa fa-square-o icon-check-empty\", \"zoom\"], [\"\", \"\", \"\", \"\"], [\"Download\", \"Download plot\", \"fa fa-floppy-o icon-save\", \"download\"]];\n",
       "\n",
       "mpl.extensions = [\"eps\", \"jpeg\", \"pdf\", \"png\", \"ps\", \"raw\", \"svg\", \"tif\"];\n",
       "\n",
       "mpl.default_extension = \"png\";var comm_websocket_adapter = function(comm) {\n",
       "    // Create a \"websocket\"-like object which calls the given IPython comm\n",
       "    // object with the appropriate methods. Currently this is a non binary\n",
       "    // socket, so there is still some room for performance tuning.\n",
       "    var ws = {};\n",
       "\n",
       "    ws.close = function() {\n",
       "        comm.close()\n",
       "    };\n",
       "    ws.send = function(m) {\n",
       "        //console.log('sending', m);\n",
       "        comm.send(m);\n",
       "    };\n",
       "    // Register the callback with on_msg.\n",
       "    comm.on_msg(function(msg) {\n",
       "        //console.log('receiving', msg['content']['data'], msg);\n",
       "        // Pass the mpl event to the overriden (by mpl) onmessage function.\n",
       "        ws.onmessage(msg['content']['data'])\n",
       "    });\n",
       "    return ws;\n",
       "}\n",
       "\n",
       "mpl.mpl_figure_comm = function(comm, msg) {\n",
       "    // This is the function which gets called when the mpl process\n",
       "    // starts-up an IPython Comm through the \"matplotlib\" channel.\n",
       "\n",
       "    var id = msg.content.data.id;\n",
       "    // Get hold of the div created by the display call when the Comm\n",
       "    // socket was opened in Python.\n",
       "    var element = $(\"#\" + id);\n",
       "    var ws_proxy = comm_websocket_adapter(comm)\n",
       "\n",
       "    function ondownload(figure, format) {\n",
       "        window.open(figure.imageObj.src);\n",
       "    }\n",
       "\n",
       "    var fig = new mpl.figure(id, ws_proxy,\n",
       "                           ondownload,\n",
       "                           element.get(0));\n",
       "\n",
       "    // Call onopen now - mpl needs it, as it is assuming we've passed it a real\n",
       "    // web socket which is closed, not our websocket->open comm proxy.\n",
       "    ws_proxy.onopen();\n",
       "\n",
       "    fig.parent_element = element.get(0);\n",
       "    fig.cell_info = mpl.find_output_cell(\"<div id='\" + id + \"'></div>\");\n",
       "    if (!fig.cell_info) {\n",
       "        console.error(\"Failed to find cell for figure\", id, fig);\n",
       "        return;\n",
       "    }\n",
       "\n",
       "    var output_index = fig.cell_info[2]\n",
       "    var cell = fig.cell_info[0];\n",
       "\n",
       "};\n",
       "\n",
       "mpl.figure.prototype.handle_close = function(fig, msg) {\n",
       "    var width = fig.canvas.width/mpl.ratio\n",
       "    fig.root.unbind('remove')\n",
       "\n",
       "    // Update the output cell to use the data from the current canvas.\n",
       "    fig.push_to_output();\n",
       "    var dataURL = fig.canvas.toDataURL();\n",
       "    // Re-enable the keyboard manager in IPython - without this line, in FF,\n",
       "    // the notebook keyboard shortcuts fail.\n",
       "    IPython.keyboard_manager.enable()\n",
       "    $(fig.parent_element).html('<img src=\"' + dataURL + '\" width=\"' + width + '\">');\n",
       "    fig.close_ws(fig, msg);\n",
       "}\n",
       "\n",
       "mpl.figure.prototype.close_ws = function(fig, msg){\n",
       "    fig.send_message('closing', msg);\n",
       "    // fig.ws.close()\n",
       "}\n",
       "\n",
       "mpl.figure.prototype.push_to_output = function(remove_interactive) {\n",
       "    // Turn the data on the canvas into data in the output cell.\n",
       "    var width = this.canvas.width/mpl.ratio\n",
       "    var dataURL = this.canvas.toDataURL();\n",
       "    this.cell_info[1]['text/html'] = '<img src=\"' + dataURL + '\" width=\"' + width + '\">';\n",
       "}\n",
       "\n",
       "mpl.figure.prototype.updated_canvas_event = function() {\n",
       "    // Tell IPython that the notebook contents must change.\n",
       "    IPython.notebook.set_dirty(true);\n",
       "    this.send_message(\"ack\", {});\n",
       "    var fig = this;\n",
       "    // Wait a second, then push the new image to the DOM so\n",
       "    // that it is saved nicely (might be nice to debounce this).\n",
       "    setTimeout(function () { fig.push_to_output() }, 1000);\n",
       "}\n",
       "\n",
       "mpl.figure.prototype._init_toolbar = function() {\n",
       "    var fig = this;\n",
       "\n",
       "    var nav_element = $('<div/>')\n",
       "    nav_element.attr('style', 'width: 100%');\n",
       "    this.root.append(nav_element);\n",
       "\n",
       "    // Define a callback function for later on.\n",
       "    function toolbar_event(event) {\n",
       "        return fig.toolbar_button_onclick(event['data']);\n",
       "    }\n",
       "    function toolbar_mouse_event(event) {\n",
       "        return fig.toolbar_button_onmouseover(event['data']);\n",
       "    }\n",
       "\n",
       "    for(var toolbar_ind in mpl.toolbar_items){\n",
       "        var name = mpl.toolbar_items[toolbar_ind][0];\n",
       "        var tooltip = mpl.toolbar_items[toolbar_ind][1];\n",
       "        var image = mpl.toolbar_items[toolbar_ind][2];\n",
       "        var method_name = mpl.toolbar_items[toolbar_ind][3];\n",
       "\n",
       "        if (!name) { continue; };\n",
       "\n",
       "        var button = $('<button class=\"btn btn-default\" href=\"#\" title=\"' + name + '\"><i class=\"fa ' + image + ' fa-lg\"></i></button>');\n",
       "        button.click(method_name, toolbar_event);\n",
       "        button.mouseover(tooltip, toolbar_mouse_event);\n",
       "        nav_element.append(button);\n",
       "    }\n",
       "\n",
       "    // Add the status bar.\n",
       "    var status_bar = $('<span class=\"mpl-message\" style=\"text-align:right; float: right;\"/>');\n",
       "    nav_element.append(status_bar);\n",
       "    this.message = status_bar[0];\n",
       "\n",
       "    // Add the close button to the window.\n",
       "    var buttongrp = $('<div class=\"btn-group inline pull-right\"></div>');\n",
       "    var button = $('<button class=\"btn btn-mini btn-primary\" href=\"#\" title=\"Stop Interaction\"><i class=\"fa fa-power-off icon-remove icon-large\"></i></button>');\n",
       "    button.click(function (evt) { fig.handle_close(fig, {}); } );\n",
       "    button.mouseover('Stop Interaction', toolbar_mouse_event);\n",
       "    buttongrp.append(button);\n",
       "    var titlebar = this.root.find($('.ui-dialog-titlebar'));\n",
       "    titlebar.prepend(buttongrp);\n",
       "}\n",
       "\n",
       "mpl.figure.prototype._root_extra_style = function(el){\n",
       "    var fig = this\n",
       "    el.on(\"remove\", function(){\n",
       "\tfig.close_ws(fig, {});\n",
       "    });\n",
       "}\n",
       "\n",
       "mpl.figure.prototype._canvas_extra_style = function(el){\n",
       "    // this is important to make the div 'focusable\n",
       "    el.attr('tabindex', 0)\n",
       "    // reach out to IPython and tell the keyboard manager to turn it's self\n",
       "    // off when our div gets focus\n",
       "\n",
       "    // location in version 3\n",
       "    if (IPython.notebook.keyboard_manager) {\n",
       "        IPython.notebook.keyboard_manager.register_events(el);\n",
       "    }\n",
       "    else {\n",
       "        // location in version 2\n",
       "        IPython.keyboard_manager.register_events(el);\n",
       "    }\n",
       "\n",
       "}\n",
       "\n",
       "mpl.figure.prototype._key_event_extra = function(event, name) {\n",
       "    var manager = IPython.notebook.keyboard_manager;\n",
       "    if (!manager)\n",
       "        manager = IPython.keyboard_manager;\n",
       "\n",
       "    // Check for shift+enter\n",
       "    if (event.shiftKey && event.which == 13) {\n",
       "        this.canvas_div.blur();\n",
       "        // select the cell after this one\n",
       "        var index = IPython.notebook.find_cell_index(this.cell_info[0]);\n",
       "        IPython.notebook.select(index + 1);\n",
       "    }\n",
       "}\n",
       "\n",
       "mpl.figure.prototype.handle_save = function(fig, msg) {\n",
       "    fig.ondownload(fig, null);\n",
       "}\n",
       "\n",
       "\n",
       "mpl.find_output_cell = function(html_output) {\n",
       "    // Return the cell and output element which can be found *uniquely* in the notebook.\n",
       "    // Note - this is a bit hacky, but it is done because the \"notebook_saving.Notebook\"\n",
       "    // IPython event is triggered only after the cells have been serialised, which for\n",
       "    // our purposes (turning an active figure into a static one), is too late.\n",
       "    var cells = IPython.notebook.get_cells();\n",
       "    var ncells = cells.length;\n",
       "    for (var i=0; i<ncells; i++) {\n",
       "        var cell = cells[i];\n",
       "        if (cell.cell_type === 'code'){\n",
       "            for (var j=0; j<cell.output_area.outputs.length; j++) {\n",
       "                var data = cell.output_area.outputs[j];\n",
       "                if (data.data) {\n",
       "                    // IPython >= 3 moved mimebundle to data attribute of output\n",
       "                    data = data.data;\n",
       "                }\n",
       "                if (data['text/html'] == html_output) {\n",
       "                    return [cell, data, j];\n",
       "                }\n",
       "            }\n",
       "        }\n",
       "    }\n",
       "}\n",
       "\n",
       "// Register the function which deals with the matplotlib target/channel.\n",
       "// The kernel may be null if the page has been refreshed.\n",
       "if (IPython.notebook.kernel != null) {\n",
       "    IPython.notebook.kernel.comm_manager.register_target('matplotlib', mpl.mpl_figure_comm);\n",
       "}\n"
      ],
      "text/plain": [
       "<IPython.core.display.Javascript object>"
      ]
     },
     "metadata": {},
     "output_type": "display_data"
    },
    {
     "data": {
      "text/html": [
       "<img src=\"data:image/png;base64,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\" width=\"640\">"
      ],
      "text/plain": [
       "<IPython.core.display.HTML object>"
      ]
     },
     "metadata": {},
     "output_type": "display_data"
    }
   ],
   "source": [
    "plt.figure()\n",
    "y1 = min_gr.Data_Value\n",
    "y2 = max_gr.Data_Value\n",
    "plt.plot(y1, '-', y2, '-')\n",
    "\n",
    "plt.show()"
   ]
  },
  {
   "cell_type": "code",
   "execution_count": 80,
   "metadata": {
    "collapsed": false
   },
   "outputs": [],
   "source": [
    "minlst = min_gr.Data_Value.tolist()\n",
    "maxlst = max_gr.Data_Value.tolist()\n",
    "n = len(minlst)\n",
    "y3 = [0]*n\n",
    "y4 = [0]*n\n",
    "for i in range(n):\n",
    "    if i >= idmin and i <= idmax:\n",
    "        y3[i] = minlst[i]\n",
    "        y4[i] = maxlst[i]"
   ]
  },
  {
   "cell_type": "code",
   "execution_count": 81,
   "metadata": {
    "collapsed": false,
    "scrolled": true
   },
   "outputs": [
    {
     "data": {
      "text/plain": [
       "<matplotlib.collections.PolyCollection at 0x7f24d95de630>"
      ]
     },
     "execution_count": 81,
     "metadata": {},
     "output_type": "execute_result"
    }
   ],
   "source": [
    "plt.plot(y3, '-', y4, '-', c='white', alpha=0)\n",
    "\n",
    "plt.gca().fill_between(range(366), \n",
    "                       y3, y4, \n",
    "                       facecolor='blue', \n",
    "                       alpha=0.25)"
   ]
  },
  {
   "cell_type": "code",
   "execution_count": 82,
   "metadata": {
    "collapsed": false
   },
   "outputs": [
    {
     "data": {
      "text/plain": [
       "<matplotlib.legend.Legend at 0x7f24d95d9278>"
      ]
     },
     "execution_count": 82,
     "metadata": {},
     "output_type": "execute_result"
    }
   ],
   "source": [
    "# plt.xlabel('Day of the Year')\n",
    "plt.ylabel('Temperature (C)')\n",
    "plt.title('Maximum and Minimum temperature of the year from 2005-2014')\n",
    "# add a legend with legend entries (because we didn't have labels when we plotted the data series)\n",
    "plt.legend(['Min', 'Max'])"
   ]
  },
  {
   "cell_type": "code",
   "execution_count": 83,
   "metadata": {
    "collapsed": false
   },
   "outputs": [
    {
     "data": {
      "text/plain": [
       "([<matplotlib.axis.YTick at 0x7f24e05c1eb8>,\n",
       "  <matplotlib.axis.YTick at 0x7f24e05d7cc0>,\n",
       "  <matplotlib.axis.YTick at 0x7f24d96098d0>,\n",
       "  <matplotlib.axis.YTick at 0x7f24d9603b00>,\n",
       "  <matplotlib.axis.YTick at 0x7f24d95fb9e8>,\n",
       "  <matplotlib.axis.YTick at 0x7f24d95f7320>,\n",
       "  <matplotlib.axis.YTick at 0x7f24d95f7cf8>,\n",
       "  <matplotlib.axis.YTick at 0x7f24d95f2710>],\n",
       " <a list of 8 Text yticklabel objects>)"
      ]
     },
     "execution_count": 83,
     "metadata": {},
     "output_type": "execute_result"
    }
   ],
   "source": [
    "plt.xticks(np.arange(15, 360, 30), ['Jan', 'Feb', 'Mar', 'Apr', 'May', 'Jun', 'Jul', 'Aug', 'Sep', 'Oct', 'Nov', 'Dec'])\n",
    "plt.yticks(np.arange(-300, 401, 100), np.arange(-30, 41, 10))"
   ]
  },
  {
   "cell_type": "code",
   "execution_count": 84,
   "metadata": {
    "collapsed": true
   },
   "outputs": [],
   "source": [
    "# # remove the frame of the chart\n",
    "# for spine in plt.gca().spines.values():\n",
    "#     spine.set_visible(False)"
   ]
  },
  {
   "cell_type": "code",
   "execution_count": 85,
   "metadata": {
    "collapsed": true
   },
   "outputs": [],
   "source": [
    "# plt.tick_params(top='on', bottom='off', left='off', right='off', labelleft='off', labelbottom='on')"
   ]
  },
  {
   "cell_type": "code",
   "execution_count": 86,
   "metadata": {
    "collapsed": false
   },
   "outputs": [
    {
     "data": {
      "text/plain": [
       "<matplotlib.text.Text at 0x7f24d8c9d240>"
      ]
     },
     "execution_count": 86,
     "metadata": {},
     "output_type": "execute_result"
    }
   ],
   "source": [
    "plt.xlabel('')"
   ]
  },
  {
   "cell_type": "code",
   "execution_count": 87,
   "metadata": {
    "collapsed": false
   },
   "outputs": [
    {
     "data": {
      "text/plain": [
       "(12087, 4)"
      ]
     },
     "execution_count": 87,
     "metadata": {},
     "output_type": "execute_result"
    }
   ],
   "source": [
    "df15 = dfall[(dfall.Date >= pd.to_datetime('2015-01-01')) & (dfall.Date < pd.to_datetime('2016-01-01'))]\n",
    "df15.shape"
   ]
  },
  {
   "cell_type": "code",
   "execution_count": 88,
   "metadata": {
    "collapsed": false
   },
   "outputs": [
    {
     "name": "stdout",
     "output_type": "stream",
     "text": [
      "(6045, 4)\n",
      "(365, 2)\n",
      "(6042, 4)\n",
      "(365, 2)\n"
     ]
    }
   ],
   "source": [
    "dfmin15 = df15[df15.Element == 'TMIN']\n",
    "print (dfmin15.shape)\n",
    "min_gr15 = dfmin15[['Date', 'Data_Value']].groupby('Date').min().reset_index()\n",
    "print(min_gr15.shape)\n",
    "\n",
    "dfmax15 = df15[df15.Element == 'TMAX']\n",
    "print (dfmax15.shape)\n",
    "max_gr15 = dfmax15[['Date', 'Data_Value']].groupby('Date').max().reset_index()\n",
    "print(max_gr15.shape)"
   ]
  },
  {
   "cell_type": "code",
   "execution_count": 89,
   "metadata": {
    "collapsed": false
   },
   "outputs": [
    {
     "data": {
      "text/plain": [
       "(27, 32)"
      ]
     },
     "execution_count": 89,
     "metadata": {},
     "output_type": "execute_result"
    }
   ],
   "source": [
    "minlst15 = min_gr15.Data_Value.tolist()\n",
    "maxlst15 = max_gr15.Data_Value.tolist()\n",
    "mins = []\n",
    "maxs = []\n",
    "for i in range(n-1):\n",
    "    if minlst15[i] < minlst[i]:\n",
    "        mins.append((i, minlst15[i]))\n",
    "    if maxlst15[i] > maxlst[i]:\n",
    "        maxs.append((i, maxlst15[i]))\n",
    "len(mins), len(maxs)"
   ]
  },
  {
   "cell_type": "code",
   "execution_count": 90,
   "metadata": {
    "collapsed": false
   },
   "outputs": [],
   "source": [
    "minx = [i[0] for i in mins]\n",
    "miny = [i[1] for i in mins]\n",
    "maxx = [i[0] for i in maxs]\n",
    "maxy = [i[1] for i in maxs]"
   ]
  },
  {
   "cell_type": "code",
   "execution_count": 91,
   "metadata": {
    "collapsed": false
   },
   "outputs": [
    {
     "data": {
      "text/plain": [
       "<matplotlib.collections.PathCollection at 0x7f24d95f7a58>"
      ]
     },
     "execution_count": 91,
     "metadata": {},
     "output_type": "execute_result"
    }
   ],
   "source": [
    "plt.scatter(minx, miny, color='red', s=10)"
   ]
  },
  {
   "cell_type": "code",
   "execution_count": 92,
   "metadata": {
    "collapsed": false
   },
   "outputs": [
    {
     "data": {
      "text/plain": [
       "<matplotlib.collections.PathCollection at 0x7f24d9600fd0>"
      ]
     },
     "execution_count": 92,
     "metadata": {},
     "output_type": "execute_result"
    }
   ],
   "source": [
    "plt.scatter(maxx, maxy, color='blue', s=10)"
   ]
  },
  {
   "cell_type": "code",
   "execution_count": null,
   "metadata": {
    "collapsed": true
   },
   "outputs": [],
   "source": []
  }
 ],
 "metadata": {
  "kernelspec": {
   "display_name": "Python 3",
   "language": "python",
   "name": "python3"
  },
  "language_info": {
   "codemirror_mode": {
    "name": "ipython",
    "version": 3
   },
   "file_extension": ".py",
   "mimetype": "text/x-python",
   "name": "python",
   "nbconvert_exporter": "python",
   "pygments_lexer": "ipython3",
   "version": "3.5.2"
  }
 },
 "nbformat": 4,
 "nbformat_minor": 1
}
